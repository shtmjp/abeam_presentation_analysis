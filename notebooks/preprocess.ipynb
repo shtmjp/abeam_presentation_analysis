{
 "cells": [
  {
   "cell_type": "markdown",
   "metadata": {},
   "source": [
    "- 各プレゼンデータのpreprocessを実行するnotebook"
   ]
  },
  {
   "cell_type": "code",
   "execution_count": 1,
   "metadata": {},
   "outputs": [],
   "source": [
    "import sys\n",
    "\n",
    "import torch\n",
    "\n",
    "sys.path.append(\"../../src\")\n",
    "from datahandler import DataHandler\n",
    "from presentation import ModelContainer, Presentation"
   ]
  },
  {
   "cell_type": "code",
   "execution_count": null,
   "metadata": {},
   "outputs": [],
   "source": [
    "dh = DataHandler()\n",
    "torch.set_num_threads(1)\n",
    "model_container = ModelContainer()\n",
    "model_container.load_silero()\n",
    "model_container.load_whisper(name=\"large\")\n",
    "\n",
    "for name in dh.names:\n",
    "    for i in dh.name2indexes[name]:\n",
    "        wav_path = dh.get_wav_path(name, i)\n",
    "        p = Presentation(wav_path, name=name, number=i, sample_rate=16000)\n",
    "        p.preprocess(model_container=model_container)\n",
    "        dh.save_presentation(p)"
   ]
  },
  {
   "cell_type": "code",
   "execution_count": null,
   "metadata": {},
   "outputs": [],
   "source": []
  }
 ],
 "metadata": {
  "kernelspec": {
   "display_name": ".venv",
   "language": "python",
   "name": "python3"
  },
  "language_info": {
   "codemirror_mode": {
    "name": "ipython",
    "version": 3
   },
   "file_extension": ".py",
   "mimetype": "text/x-python",
   "name": "python",
   "nbconvert_exporter": "python",
   "pygments_lexer": "ipython3",
   "version": "3.9.16"
  }
 },
 "nbformat": 4,
 "nbformat_minor": 2
}
